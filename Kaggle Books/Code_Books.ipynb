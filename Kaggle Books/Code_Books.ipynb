{
 "cells": [
  {
   "cell_type": "markdown",
   "id": "2c472066",
   "metadata": {},
   "source": [
    "### Mainly this dataset has lot of textual columns. "
   ]
  },
  {
   "cell_type": "code",
   "execution_count": 3,
   "id": "693493a3",
   "metadata": {},
   "outputs": [],
   "source": [
    "import pandas as pd\n",
    "import numpy\n",
    "from sklearn.metrics.pairwise import cosine_similarity\n"
   ]
  },
  {
   "cell_type": "code",
   "execution_count": 111,
   "id": "8553363b",
   "metadata": {},
   "outputs": [
    {
     "name": "stderr",
     "output_type": "stream",
     "text": [
      "C:\\Users\\dhruv.goel1\\AppData\\Local\\Temp\\ipykernel_19912\\956407845.py:1: DtypeWarning: Columns (3) have mixed types. Specify dtype option on import or set low_memory=False.\n",
      "  books = pd.read_csv('Books.csv')\n"
     ]
    }
   ],
   "source": [
    "books = pd.read_csv('Books.csv')\n",
    "ratings = pd.read_csv('Ratings.csv')\n"
   ]
  },
  {
   "cell_type": "code",
   "execution_count": 112,
   "id": "35776299",
   "metadata": {},
   "outputs": [
    {
     "data": {
      "text/html": [
       "<div>\n",
       "<style scoped>\n",
       "    .dataframe tbody tr th:only-of-type {\n",
       "        vertical-align: middle;\n",
       "    }\n",
       "\n",
       "    .dataframe tbody tr th {\n",
       "        vertical-align: top;\n",
       "    }\n",
       "\n",
       "    .dataframe thead th {\n",
       "        text-align: right;\n",
       "    }\n",
       "</style>\n",
       "<table border=\"1\" class=\"dataframe\">\n",
       "  <thead>\n",
       "    <tr style=\"text-align: right;\">\n",
       "      <th></th>\n",
       "      <th>ISBN</th>\n",
       "      <th>Book-Title</th>\n",
       "      <th>Book-Author</th>\n",
       "      <th>Year-Of-Publication</th>\n",
       "      <th>Publisher</th>\n",
       "      <th>Image-URL-S</th>\n",
       "      <th>Image-URL-M</th>\n",
       "      <th>Image-URL-L</th>\n",
       "    </tr>\n",
       "  </thead>\n",
       "  <tbody>\n",
       "    <tr>\n",
       "      <th>0</th>\n",
       "      <td>0195153448</td>\n",
       "      <td>Classical Mythology</td>\n",
       "      <td>Mark P. O. Morford</td>\n",
       "      <td>2002</td>\n",
       "      <td>Oxford University Press</td>\n",
       "      <td>http://images.amazon.com/images/P/0195153448.0...</td>\n",
       "      <td>http://images.amazon.com/images/P/0195153448.0...</td>\n",
       "      <td>http://images.amazon.com/images/P/0195153448.0...</td>\n",
       "    </tr>\n",
       "  </tbody>\n",
       "</table>\n",
       "</div>"
      ],
      "text/plain": [
       "         ISBN           Book-Title         Book-Author Year-Of-Publication  \\\n",
       "0  0195153448  Classical Mythology  Mark P. O. Morford                2002   \n",
       "\n",
       "                 Publisher                                        Image-URL-S  \\\n",
       "0  Oxford University Press  http://images.amazon.com/images/P/0195153448.0...   \n",
       "\n",
       "                                         Image-URL-M  \\\n",
       "0  http://images.amazon.com/images/P/0195153448.0...   \n",
       "\n",
       "                                         Image-URL-L  \n",
       "0  http://images.amazon.com/images/P/0195153448.0...  "
      ]
     },
     "metadata": {},
     "output_type": "display_data"
    },
    {
     "data": {
      "text/html": [
       "<div>\n",
       "<style scoped>\n",
       "    .dataframe tbody tr th:only-of-type {\n",
       "        vertical-align: middle;\n",
       "    }\n",
       "\n",
       "    .dataframe tbody tr th {\n",
       "        vertical-align: top;\n",
       "    }\n",
       "\n",
       "    .dataframe thead th {\n",
       "        text-align: right;\n",
       "    }\n",
       "</style>\n",
       "<table border=\"1\" class=\"dataframe\">\n",
       "  <thead>\n",
       "    <tr style=\"text-align: right;\">\n",
       "      <th></th>\n",
       "      <th>User-ID</th>\n",
       "      <th>ISBN</th>\n",
       "      <th>Book-Rating</th>\n",
       "    </tr>\n",
       "  </thead>\n",
       "  <tbody>\n",
       "    <tr>\n",
       "      <th>0</th>\n",
       "      <td>276725</td>\n",
       "      <td>034545104X</td>\n",
       "      <td>0</td>\n",
       "    </tr>\n",
       "  </tbody>\n",
       "</table>\n",
       "</div>"
      ],
      "text/plain": [
       "   User-ID        ISBN  Book-Rating\n",
       "0   276725  034545104X            0"
      ]
     },
     "metadata": {},
     "output_type": "display_data"
    }
   ],
   "source": [
    "display(books.head(1))\n",
    "display(ratings.head(1))"
   ]
  },
  {
   "cell_type": "code",
   "execution_count": 113,
   "id": "930d7918",
   "metadata": {},
   "outputs": [],
   "source": [
    "df = books.merge(ratings, on = 'ISBN', how = 'left')"
   ]
  },
  {
   "cell_type": "code",
   "execution_count": 114,
   "id": "f89f5a8d",
   "metadata": {},
   "outputs": [
    {
     "data": {
      "text/html": [
       "<div>\n",
       "<style scoped>\n",
       "    .dataframe tbody tr th:only-of-type {\n",
       "        vertical-align: middle;\n",
       "    }\n",
       "\n",
       "    .dataframe tbody tr th {\n",
       "        vertical-align: top;\n",
       "    }\n",
       "\n",
       "    .dataframe thead th {\n",
       "        text-align: right;\n",
       "    }\n",
       "</style>\n",
       "<table border=\"1\" class=\"dataframe\">\n",
       "  <thead>\n",
       "    <tr style=\"text-align: right;\">\n",
       "      <th></th>\n",
       "      <th>ISBN</th>\n",
       "      <th>Book-Title</th>\n",
       "      <th>Book-Author</th>\n",
       "      <th>Year-Of-Publication</th>\n",
       "      <th>Publisher</th>\n",
       "      <th>Image-URL-S</th>\n",
       "      <th>Image-URL-M</th>\n",
       "      <th>Image-URL-L</th>\n",
       "      <th>User-ID</th>\n",
       "      <th>Book-Rating</th>\n",
       "    </tr>\n",
       "  </thead>\n",
       "  <tbody>\n",
       "    <tr>\n",
       "      <th>0</th>\n",
       "      <td>0195153448</td>\n",
       "      <td>Classical Mythology</td>\n",
       "      <td>Mark P. O. Morford</td>\n",
       "      <td>2002</td>\n",
       "      <td>Oxford University Press</td>\n",
       "      <td>http://images.amazon.com/images/P/0195153448.0...</td>\n",
       "      <td>http://images.amazon.com/images/P/0195153448.0...</td>\n",
       "      <td>http://images.amazon.com/images/P/0195153448.0...</td>\n",
       "      <td>2.0</td>\n",
       "      <td>0.0</td>\n",
       "    </tr>\n",
       "  </tbody>\n",
       "</table>\n",
       "</div>"
      ],
      "text/plain": [
       "         ISBN           Book-Title         Book-Author Year-Of-Publication  \\\n",
       "0  0195153448  Classical Mythology  Mark P. O. Morford                2002   \n",
       "\n",
       "                 Publisher                                        Image-URL-S  \\\n",
       "0  Oxford University Press  http://images.amazon.com/images/P/0195153448.0...   \n",
       "\n",
       "                                         Image-URL-M  \\\n",
       "0  http://images.amazon.com/images/P/0195153448.0...   \n",
       "\n",
       "                                         Image-URL-L  User-ID  Book-Rating  \n",
       "0  http://images.amazon.com/images/P/0195153448.0...      2.0          0.0  "
      ]
     },
     "execution_count": 114,
     "metadata": {},
     "output_type": "execute_result"
    }
   ],
   "source": [
    "df.head(1)"
   ]
  },
  {
   "cell_type": "code",
   "execution_count": 115,
   "id": "b3f37ca5",
   "metadata": {},
   "outputs": [
    {
     "data": {
      "text/plain": [
       "User-ID\n",
       "11676.0     11144\n",
       "198711.0     6456\n",
       "153662.0     5814\n",
       "98391.0      5779\n",
       "35859.0      5646\n",
       "            ...  \n",
       "51911.0         1\n",
       "151772.0        1\n",
       "158802.0        1\n",
       "243672.0        1\n",
       "259920.0        1\n",
       "Name: count, Length: 92106, dtype: int64"
      ]
     },
     "execution_count": 115,
     "metadata": {},
     "output_type": "execute_result"
    }
   ],
   "source": [
    "df['User-ID'].value_counts()"
   ]
  },
  {
   "cell_type": "code",
   "execution_count": 116,
   "id": "dfabd41d",
   "metadata": {},
   "outputs": [
    {
     "data": {
      "text/plain": [
       "Book-Rating\n",
       "0.0     4201\n",
       "8.0     1764\n",
       "7.0     1252\n",
       "10.0    1125\n",
       "9.0      861\n",
       "6.0      685\n",
       "5.0      680\n",
       "4.0      230\n",
       "3.0      166\n",
       "1.0       94\n",
       "2.0       86\n",
       "Name: count, dtype: int64"
      ]
     },
     "execution_count": 116,
     "metadata": {},
     "output_type": "execute_result"
    }
   ],
   "source": [
    "df[df['User-ID'] == 11676]['Book-Rating'].value_counts()"
   ]
  },
  {
   "cell_type": "code",
   "execution_count": 117,
   "id": "e9107b60",
   "metadata": {},
   "outputs": [],
   "source": [
    "df = df.drop(columns = ['Image-URL-S','Image-URL-M','Image-URL-L'], axis = 1)"
   ]
  },
  {
   "cell_type": "markdown",
   "id": "351d17ff",
   "metadata": {},
   "source": [
    "### Content Based"
   ]
  },
  {
   "cell_type": "code",
   "execution_count": 118,
   "id": "886d40ca",
   "metadata": {},
   "outputs": [],
   "source": [
    "#removing invalid rows\n",
    "df1 = df[df['Year-Of-Publication'].astype(str).str.isdigit()]"
   ]
  },
  {
   "cell_type": "code",
   "execution_count": null,
   "id": "9b32d956",
   "metadata": {},
   "outputs": [],
   "source": [
    "#Preparing the feature matrix - \n",
    "from sklearn.feature_extraction.text import TfidfVectorizer\n",
    "from sklearn.decomposition import TruncatedSVD\n",
    "import matplotlib.pyplot as plt\n",
    "\n",
    "tfidf = TfidfVectorizer(stop_words=\"english\")\n",
    "book_title_ft = tfidf.fit_transform(df1['Book-Title'])\n",
    "\n",
    "n_components = 100  # You can adjust this based on explained variance\n",
    "svd = TruncatedSVD(n_components=n_components)\n",
    "reduced_title_features = svd.fit_transform(book_title_ft)\n",
    "\n",
    "#as we are gaining good on 100 lets keep 100\n",
    "explained_variance = svd.explained_variance_ratio_.cumsum()\n",
    "plt.plot(range(1, n_components + 1), explained_variance)\n",
    "plt.xlabel('Number of components')\n",
    "plt.ylabel('Cumulative explained variance')\n",
    "plt.title('Explained variance by SVD components')\n",
    "plt.grid(True)\n",
    "plt.show()"
   ]
  },
  {
   "cell_type": "code",
   "execution_count": null,
   "id": "0abfe387",
   "metadata": {},
   "outputs": [
    {
     "data": {
      "image/png": "[encoded data removed]",
      "text/plain": [
       "<Figure size 640x480 with 1 Axes>"
      ]
     },
     "metadata": {},
     "output_type": "display_data"
    }
   ],
   "source": []
  },
  {
   "cell_type": "code",
   "execution_count": 139,
   "id": "762ee44b",
   "metadata": {},
   "outputs": [],
   "source": [
    "\n",
    "#lets use one hot encoding for rest of the features\n",
    "\n",
    "from sklearn.preprocessing import OneHotEncoder\n",
    "\n",
    "ohe = OneHotEncoder()\n",
    "\n",
    "\n",
    "book_author_ft = ohe.fit_transform(df1[['Book-Author']])\n",
    "book_publisher_ft = ohe.fit_transform(df1[['Publisher']])\n",
    "\n",
    "n_components = 100\n",
    "svd = TruncatedSVD(n_components = n_components)\n",
    "reduced_author_ft = svd.fit_transform(book_author_ft)\n",
    "reduced_publisher_ft = svd.fit_transform(book_publisher_ft)\n"
   ]
  },
  {
   "cell_type": "code",
   "execution_count": 140,
   "id": "0b637bb9",
   "metadata": {},
   "outputs": [
    {
     "name": "stderr",
     "output_type": "stream",
     "text": [
      "C:\\Users\\dhruv.goel1\\AppData\\Local\\Temp\\ipykernel_19912\\2168242598.py:6: SettingWithCopyWarning: \n",
      "A value is trying to be set on a copy of a slice from a DataFrame.\n",
      "Try using .loc[row_indexer,col_indexer] = value instead\n",
      "\n",
      "See the caveats in the documentation: https://pandas.pydata.org/pandas-docs/stable/user_guide/indexing.html#returning-a-view-versus-a-copy\n",
      "  df1['Year-Of-Publication'] = df1['Year-Of-Publication'].astype('str')\n"
     ]
    }
   ],
   "source": [
    "#standardize the year of publication\n",
    "\n",
    "from sklearn.preprocessing import StandardScaler\n",
    "sc = StandardScaler()\n",
    "\n",
    "df1['Year-Of-Publication'] = df1['Year-Of-Publication'].astype('str')\n",
    "year_ft = sc.fit_transform(df1[['Year-Of-Publication']])"
   ]
  },
  {
   "cell_type": "code",
   "execution_count": 141,
   "id": "b70c52d7",
   "metadata": {},
   "outputs": [],
   "source": [
    "#ensuring that the year of publication is also sparse matrix\n",
    "from scipy.sparse import csr_matrix\n",
    "\n",
    "year_ft_sparse = csr_matrix(year_ft)"
   ]
  },
  {
   "cell_type": "code",
   "execution_count": null,
   "id": "68072407",
   "metadata": {},
   "outputs": [
    {
     "name": "stdout",
     "output_type": "stream",
     "text": [
      "Shape of title features: (1032341, 100)\n",
      "Shape of title features: (1032341, 100)\n",
      "Shape of title features: (1032341, 100)\n",
      "Shape of title features: (1032341, 1)\n"
     ]
    }
   ],
   "source": [
    "print(\"Shape of title features:\", reduced_title_features.shape)\n",
    "print(\"Shape of title features:\", reduced_author_ft.shape)\n",
    "print(\"Shape of title features:\", reduced_publisher_ft.shape)\n",
    "print(\"Shape of title features:\", year_ft_sparse.shape)"
   ]
  },
  {
   "cell_type": "code",
   "execution_count": 144,
   "id": "45440fa9",
   "metadata": {},
   "outputs": [],
   "source": [
    "# Combine features and convert to CSR format for efficient row slicing\n",
    "feature_cols = hstack([reduced_title_features, reduced_author_ft, reduced_publisher_ft, year_ft_sparse]).tocsr()"
   ]
  },
  {
   "cell_type": "code",
   "execution_count": 145,
   "id": "b03a133e",
   "metadata": {},
   "outputs": [
    {
     "data": {
      "text/html": [
       "<div>\n",
       "<style scoped>\n",
       "    .dataframe tbody tr th:only-of-type {\n",
       "        vertical-align: middle;\n",
       "    }\n",
       "\n",
       "    .dataframe tbody tr th {\n",
       "        vertical-align: top;\n",
       "    }\n",
       "\n",
       "    .dataframe thead th {\n",
       "        text-align: right;\n",
       "    }\n",
       "</style>\n",
       "<table border=\"1\" class=\"dataframe\">\n",
       "  <thead>\n",
       "    <tr style=\"text-align: right;\">\n",
       "      <th></th>\n",
       "      <th>ISBN</th>\n",
       "      <th>Book-Title</th>\n",
       "      <th>Book-Author</th>\n",
       "      <th>Year-Of-Publication</th>\n",
       "      <th>Publisher</th>\n",
       "      <th>User-ID</th>\n",
       "      <th>Book-Rating</th>\n",
       "      <th>Similarity_score</th>\n",
       "    </tr>\n",
       "  </thead>\n",
       "  <tbody>\n",
       "    <tr>\n",
       "      <th>0</th>\n",
       "      <td>0195153448</td>\n",
       "      <td>Classical Mythology</td>\n",
       "      <td>Mark P. O. Morford</td>\n",
       "      <td>2002</td>\n",
       "      <td>Oxford University Press</td>\n",
       "      <td>2.0</td>\n",
       "      <td>0.0</td>\n",
       "      <td>-0.033141</td>\n",
       "    </tr>\n",
       "  </tbody>\n",
       "</table>\n",
       "</div>"
      ],
      "text/plain": [
       "         ISBN           Book-Title         Book-Author Year-Of-Publication  \\\n",
       "0  0195153448  Classical Mythology  Mark P. O. Morford                2002   \n",
       "\n",
       "                 Publisher  User-ID  Book-Rating  Similarity_score  \n",
       "0  Oxford University Press      2.0          0.0         -0.033141  "
      ]
     },
     "execution_count": 145,
     "metadata": {},
     "output_type": "execute_result"
    }
   ],
   "source": [
    "df1.head(1)"
   ]
  },
  {
   "cell_type": "code",
   "execution_count": 146,
   "id": "4a748fd8",
   "metadata": {},
   "outputs": [
    {
     "name": "stdout",
     "output_type": "stream",
     "text": [
      "(11144, 8)\n",
      "(5002, 8)\n"
     ]
    }
   ],
   "source": [
    "user_id = 11676\n",
    "\n",
    "user_data = df1[df1['User-ID'] == user_id]\n",
    "print(user_data.shape)\n",
    "\n",
    "#getting liked books\n",
    "high_ratings = [7,8,9,10]\n",
    "liked_books = user_data[user_data['Book-Rating'].isin(high_ratings)]\n",
    "print(liked_books.shape)"
   ]
  },
  {
   "cell_type": "code",
   "execution_count": 147,
   "id": "3de127f3",
   "metadata": {},
   "outputs": [
    {
     "data": {
      "text/plain": [
       "(5002, 301)"
      ]
     },
     "execution_count": 147,
     "metadata": {},
     "output_type": "execute_result"
    }
   ],
   "source": [
    "#extract feature matrix for liked movies\n",
    "\n",
    "liked_indices = liked_books.index\n",
    "feature_matrix = feature_cols[liked_indices,:]\n",
    "feature_matrix.shape"
   ]
  },
  {
   "cell_type": "code",
   "execution_count": 148,
   "id": "9031798e",
   "metadata": {},
   "outputs": [],
   "source": [
    "#getting rating matrix\n",
    "rating_matrix = liked_books['Book-Rating'].values"
   ]
  },
  {
   "cell_type": "code",
   "execution_count": 149,
   "id": "a2fd020b",
   "metadata": {},
   "outputs": [
    {
     "name": "stdout",
     "output_type": "stream",
     "text": [
      "[ 8.61298257e+02  7.29230951e+02  2.40652535e+02  4.11562298e+02\n",
      "  4.82145971e+02  4.34398130e+02 -1.12253792e+02  1.57213039e+02\n",
      "  5.94997083e+00  4.19523601e+02 -2.95083452e+01 -1.76835601e+02\n",
      "  3.30141529e+02  4.92215868e+01  1.32794517e+02 -5.82430720e+01\n",
      " -3.65835260e+01 -1.93422369e+01  1.68754421e+01  7.01601346e+01\n",
      " -3.76737104e+00 -2.70418165e+01  8.46417976e+01 -3.01060865e+01\n",
      "  8.92923543e+01  8.63483514e+01  1.25696054e+02 -2.68113540e+01\n",
      " -1.39847770e+01  5.15944230e+01  6.53500812e+01  5.73767211e+01\n",
      "  1.15134904e+01  5.86351019e+01  1.00382243e+02  1.14230643e+02\n",
      "  8.29044848e+01  3.84499182e+01 -3.96088863e+01  1.13170633e+01\n",
      " -3.63645447e+01 -2.47234761e+01 -9.39145640e+00  7.96101176e+01\n",
      " -2.54234393e+01  1.10037102e+02  8.16972224e+01  1.09006246e+02\n",
      "  9.51113010e+01  1.63437568e+02  9.78030225e+01  8.14241243e+01\n",
      " -3.78536043e+01  1.36442459e+02 -1.91255829e+01  2.42958538e+01\n",
      "  1.28679289e+02 -2.82097248e+01  4.36819894e+01  3.41978344e+01\n",
      " -3.55674589e+01 -4.70088614e+01  1.75762138e+01  9.15123534e+01\n",
      " -4.92010791e+01  5.26623044e+01  6.38316432e+00  2.35783320e+01\n",
      "  5.02021442e+00 -2.53650351e+01  2.80760327e+01  3.97105614e+01\n",
      "  7.35727216e+01 -3.40221767e+01 -4.54610346e+01 -2.68726342e+01\n",
      "  4.89618589e+01  5.46510066e+01  9.78926069e+00  9.05530855e+01\n",
      "  1.58491137e+01 -6.01309370e+00 -6.94979695e+01  5.84725268e+01\n",
      " -2.24383079e+01  4.42913588e+01  3.04557194e+01  5.86026185e+00\n",
      " -5.67864253e+00  1.00868280e+01  6.39447038e+00 -6.40126540e-01\n",
      " -5.92223416e+00  1.37981323e+01 -6.31636276e+00 -3.76270122e+01\n",
      "  3.05582181e+01  2.04148784e+01  5.46485486e+01  2.22642130e+01\n",
      "  2.71999966e+02  3.01999938e+02  1.41998901e+02  1.94000190e+02\n",
      "  1.83000840e+02  1.08983890e+02  8.89879324e+01  1.81985562e+02\n",
      "  7.49871729e+01  8.79856516e+01  2.19768527e+01  6.99459374e+01\n",
      "  9.68917658e+01  6.00763964e+01  5.52531664e+01  1.58886465e+02\n",
      "  8.78500687e+01  5.30842461e+01  3.82710334e-02  5.21515730e+01\n",
      "  5.71503748e+01  1.85028574e+02  9.09754891e+01  5.19288279e+01\n",
      "  5.42036032e+01  1.23537093e+02  6.94781824e+01  6.97813117e+01\n",
      "  9.98596123e+01  9.22697784e+01  8.35488638e+01  6.96978319e+01\n",
      "  8.30492322e+01  8.58189554e+01  7.63595665e+01  1.99827495e+01\n",
      "  4.21774631e+01  4.13166392e+01  3.46620870e+00  5.92477441e+01\n",
      "  7.54047319e+01  1.46353952e+02  4.70103134e+01  5.44536999e+01\n",
      "  3.48320167e+01  6.50780265e+01  6.19329099e+01  6.62391475e+01\n",
      "  5.64228900e+01 -1.03040956e+01  7.44149296e+01  3.54848614e+01\n",
      "  3.55983061e+01  3.71200328e+01  8.39054140e+01  1.01510002e+01\n",
      "  4.99895265e+01  9.63046488e+01  4.44095984e+01  3.38494831e+01\n",
      "  3.79449312e+01  9.38614236e+01  3.00325827e+01  6.77412330e+01\n",
      "  6.49204571e+01  1.18816130e+02  5.73341222e+00  8.63964599e+00\n",
      " -6.47676101e+00  1.22615042e+02 -1.17244322e+01  5.62949836e+01\n",
      "  3.84387669e+01  5.44819253e+01  9.62546329e+00 -2.40158518e+00\n",
      "  2.05941272e+01  9.23157426e+01  2.75815521e+01  6.24879900e+01\n",
      " -1.60558805e+01  1.44135369e+01  5.57059642e+00  1.02092881e+02\n",
      "  2.67048560e+01  3.74302391e+01 -2.08469308e+01  5.53312827e+01\n",
      "  3.06418952e+01  6.35010621e+01  4.45458905e+01 -1.38447955e+01\n",
      " -7.86174843e+00  7.67475968e+00  2.17799518e+01 -1.17993909e+01\n",
      "  8.60246034e+00 -5.62779435e+01  1.34009663e+01  2.92846687e+01\n",
      "  1.16500000e+03  9.32999999e+02  9.12000007e+02  9.76000009e+02\n",
      "  3.98999994e+02  8.52999987e+02  6.09000051e+02  6.83999833e+02\n",
      "  5.83000038e+02  5.61000147e+02  4.93000016e+02  3.50999296e+02\n",
      "  4.25998868e+02  6.54999642e+02  4.99998755e+02  4.34000670e+02\n",
      "  3.30000392e+02  4.62998791e+02  3.78001586e+02  4.99001780e+02\n",
      "  4.02995859e+02  2.30991793e+02  2.85990051e+02  2.04969642e+02\n",
      "  2.67998850e+02  3.08027328e+02  3.27990761e+02  2.80989554e+02\n",
      "  2.30955653e+02  1.90109258e+02  2.07997279e+02  2.50817344e+02\n",
      "  2.87878092e+02  1.58059995e+02  1.74177071e+02  1.60147099e+02\n",
      "  2.56202091e+02  1.09377871e+02  2.58771453e+02  1.50871959e+02\n",
      "  2.73699833e+02  1.53986181e+02  8.90556570e+01  5.86951373e+01\n",
      "  7.61291657e+01  1.99803838e+02  1.19409161e+02  1.48478294e+02\n",
      "  1.55171494e+02  1.34154527e+02  1.22702999e+02  1.45890829e+02\n",
      "  1.51240282e+02  1.01571064e+02  1.97808702e+02  8.50235597e+01\n",
      "  1.84321565e+02  1.66511576e+02  1.64982172e+02  1.70531362e+02\n",
      "  1.52478942e+02  1.13579753e+02  2.68854504e+02  1.53981582e+02\n",
      "  1.10252939e+02  5.51890646e+01  1.54609235e+02  9.38812666e+01\n",
      "  1.34696209e+02  1.66302787e+02  1.59856269e+02  7.50327195e+01\n",
      "  1.26367884e+02  1.56964899e+02  2.16832570e+02  1.00098691e+02\n",
      "  1.08908407e+02  3.31601731e+01  9.12599656e+00  1.08221447e+02\n",
      "  8.48061994e+01  1.62534568e+02  1.21177071e+02  5.43850661e+01\n",
      "  9.32526970e+00  8.87979661e+01  1.38714635e+02  7.15494515e+01\n",
      "  3.33007641e+01  1.78222563e+02  3.66785210e+01  2.05028744e+02\n",
      " -2.08136667e+01  5.19032241e+01  3.17362845e+01  1.11076950e+02\n",
      " -9.60575085e+01  8.07925760e+01  1.03782939e+02  2.07199437e+01\n",
      " -2.58366727e+03]\n",
      "[ 2.05683166e-02  1.74144705e-02  5.74692620e-03  9.82835340e-03\n",
      "  1.15139336e-02  1.03736867e-02 -2.68068758e-03  3.75434124e-03\n",
      "  1.42088856e-04  1.00184741e-02 -7.04676900e-04 -4.22293973e-03\n",
      "  7.88397681e-03  1.17544088e-03  3.17121235e-03 -1.39087933e-03\n",
      " -8.73636442e-04 -4.61904166e-04  4.02995632e-04  1.67546590e-03\n",
      " -8.99670695e-05 -6.45774723e-04  2.02129666e-03 -7.18951319e-04\n",
      "  2.13235473e-03  2.06205018e-03  3.00169681e-03 -6.40271140e-04\n",
      " -3.33964825e-04  1.23210562e-03  1.56059895e-03  1.37019035e-03\n",
      "  2.74949024e-04  1.40024124e-03  2.39718790e-03  2.72789596e-03\n",
      "  1.97980859e-03  9.18207002e-04 -9.45883852e-04  2.70258229e-04\n",
      " -8.68407037e-04 -5.90411369e-04 -2.24273586e-04  1.90113714e-03\n",
      " -6.07126909e-04  2.62775170e-03  1.95097845e-03  2.60313424e-03\n",
      "  2.27131465e-03  3.90298669e-03  2.33559457e-03  1.94445670e-03\n",
      " -9.03966670e-04  3.25832739e-03 -4.56730339e-04  5.80199493e-04\n",
      "  3.07293825e-03 -6.73665069e-04  1.04315198e-03  8.16664703e-04\n",
      " -8.49372153e-04 -1.12259967e-03  4.19730479e-04  2.18536963e-03\n",
      " -1.17495114e-03  1.25760727e-03  1.52433775e-04  5.63064646e-04\n",
      "  1.19885718e-04 -6.05732182e-04  6.70472422e-04  9.48311914e-04\n",
      "  1.75696052e-03 -8.12469892e-04 -1.08563665e-03 -6.41734549e-04\n",
      "  1.16923842e-03  1.30509866e-03  2.33773390e-04  2.16246174e-03\n",
      "  3.78486296e-04 -1.43596267e-04 -1.65965300e-03  1.39635885e-03\n",
      " -5.35840190e-04  1.05770409e-03  7.27300762e-04  1.39946552e-04\n",
      " -1.35609374e-04  2.40879474e-04  1.52703770e-04 -1.52866039e-05\n",
      " -1.41426487e-04  3.29507638e-04 -1.50838514e-04 -8.98555514e-04\n",
      "  7.29748492e-04  4.87519483e-04  1.30503997e-03  5.31682698e-04\n",
      "  6.49552158e-03  7.21193882e-03  3.39101853e-03  4.63284037e-03\n",
      "  4.37016933e-03  2.60260037e-03  2.12508495e-03  4.34592386e-03\n",
      "  1.79073846e-03  2.10114989e-03  5.24820363e-04  1.67035074e-03\n",
      "  2.31383321e-03  1.43466021e-03  1.31947860e-03  3.79430365e-03\n",
      "  2.09791209e-03  1.26768349e-03  9.13935126e-07  1.24541070e-03\n",
      "  1.36478507e-03  4.41859280e-03  2.17254899e-03  1.24009141e-03\n",
      "  1.29441441e-03  2.95013953e-03  1.65918048e-03  1.66641938e-03\n",
      "  2.38470716e-03  2.20345739e-03  1.99519675e-03  1.66442584e-03\n",
      "  1.98326525e-03  2.04940789e-03  1.82351204e-03  4.77199988e-04\n",
      "  1.00722300e-03  9.86666011e-04  8.27751332e-05  1.41487150e-03\n",
      "  1.80071002e-03  3.49501976e-03  1.12263435e-03  1.30038686e-03\n",
      "  8.31809355e-04  1.55410213e-03  1.47899486e-03  1.58183039e-03\n",
      "  1.34741230e-03 -2.46067955e-04  1.77707295e-03  8.47399676e-04\n",
      "  8.50108801e-04  8.86448544e-04  2.00371138e-03  2.42411944e-04\n",
      "  1.19377974e-03  2.29981251e-03  1.06052772e-03  8.08345865e-04\n",
      "  9.06147611e-04  2.24146683e-03  7.17196004e-04  1.61770109e-03\n",
      "  1.55033928e-03  2.83740012e-03  1.36917307e-04  2.06319904e-04\n",
      " -1.54668920e-04  2.92812041e-03 -2.79986441e-04  1.34435782e-03\n",
      "  9.17940702e-04  1.30106090e-03  2.29861810e-04 -5.73512879e-05\n",
      "  4.91800053e-04  2.20455505e-03  6.58663931e-04  1.49225051e-03\n",
      " -3.83424011e-04  3.44203867e-04  1.33029168e-04  2.43803895e-03\n",
      "  6.37727904e-04  8.93856456e-04 -4.97837154e-04  1.32134406e-03\n",
      "  7.31746750e-04  1.51644327e-03  1.06378246e-03 -3.30621982e-04\n",
      " -1.87743246e-04  1.83277843e-04  5.20118253e-04 -2.81776499e-04\n",
      "  2.05431889e-04 -1.34395089e-03  3.20023076e-04  6.99335373e-04\n",
      "  2.78208955e-02  2.22805970e-02  2.17791047e-02  2.33074629e-02\n",
      "  9.52835807e-03  2.03701489e-02  1.45432848e-02  1.63343244e-02\n",
      "  1.39223890e-02  1.33970184e-02  1.17731347e-02  8.38207275e-03\n",
      "  1.01731073e-02  1.56417825e-02  1.19402688e-02  1.03641951e-02\n",
      "  7.88060637e-03  1.10566876e-02  9.02690355e-03  1.19164604e-02\n",
      "  9.62378170e-03  5.51622193e-03  6.82961316e-03  4.89479742e-03\n",
      "  6.39997254e-03  7.35587648e-03  7.83261518e-03  6.71019830e-03\n",
      "  5.51535887e-03  4.53992258e-03  4.96709919e-03  5.98966792e-03\n",
      "  6.87470071e-03  3.77456704e-03  4.15945244e-03  3.82440834e-03\n",
      "  6.11825888e-03  2.61200887e-03  6.17961678e-03  3.60291246e-03\n",
      "  6.53611542e-03  3.67728193e-03  2.12670226e-03  1.40167492e-03\n",
      "  1.81800993e-03  4.77143494e-03  2.85156205e-03  3.54575030e-03\n",
      "  3.70558791e-03  3.20369020e-03  2.93022088e-03  3.48396010e-03\n",
      "  3.61170824e-03  2.42557766e-03  4.72378991e-03  2.03041336e-03\n",
      "  4.40170902e-03  3.97639584e-03  3.93987276e-03  4.07239073e-03\n",
      "  3.64128817e-03  2.71235232e-03  6.42040606e-03  3.67717211e-03\n",
      "  2.63290601e-03  1.31794781e-03  3.69216083e-03  2.24194069e-03\n",
      "  3.21662588e-03  3.97140984e-03  3.81746315e-03  1.79182614e-03\n",
      "  3.01774051e-03  3.74841551e-03  5.17809122e-03  2.39041651e-03\n",
      "  2.60079777e-03  7.91884731e-04  2.17934246e-04  2.58439276e-03\n",
      "  2.02522267e-03  3.88142252e-03  2.89378081e-03  1.29874785e-03\n",
      "  2.22693008e-04  2.12054844e-03  3.31258830e-03  1.70864362e-03\n",
      "  7.95242128e-04  4.25606121e-03  8.75904979e-04  4.89620881e-03\n",
      " -4.97042788e-04  1.23947998e-03  7.57881421e-04  2.65258387e-03\n",
      " -2.29391065e-03  1.92937495e-03  2.47839854e-03  4.94804625e-04\n",
      " -6.16995168e-02]\n",
      "[[ 2.05683166e-02  1.74144705e-02  5.74692620e-03  9.82835340e-03\n",
      "   1.15139336e-02  1.03736867e-02 -2.68068758e-03  3.75434124e-03\n",
      "   1.42088856e-04  1.00184741e-02 -7.04676900e-04 -4.22293973e-03\n",
      "   7.88397681e-03  1.17544088e-03  3.17121235e-03 -1.39087933e-03\n",
      "  -8.73636442e-04 -4.61904166e-04  4.02995632e-04  1.67546590e-03\n",
      "  -8.99670695e-05 -6.45774723e-04  2.02129666e-03 -7.18951319e-04\n",
      "   2.13235473e-03  2.06205018e-03  3.00169681e-03 -6.40271140e-04\n",
      "  -3.33964825e-04  1.23210562e-03  1.56059895e-03  1.37019035e-03\n",
      "   2.74949024e-04  1.40024124e-03  2.39718790e-03  2.72789596e-03\n",
      "   1.97980859e-03  9.18207002e-04 -9.45883852e-04  2.70258229e-04\n",
      "  -8.68407037e-04 -5.90411369e-04 -2.24273586e-04  1.90113714e-03\n",
      "  -6.07126909e-04  2.62775170e-03  1.95097845e-03  2.60313424e-03\n",
      "   2.27131465e-03  3.90298669e-03  2.33559457e-03  1.94445670e-03\n",
      "  -9.03966670e-04  3.25832739e-03 -4.56730339e-04  5.80199493e-04\n",
      "   3.07293825e-03 -6.73665069e-04  1.04315198e-03  8.16664703e-04\n",
      "  -8.49372153e-04 -1.12259967e-03  4.19730479e-04  2.18536963e-03\n",
      "  -1.17495114e-03  1.25760727e-03  1.52433775e-04  5.63064646e-04\n",
      "   1.19885718e-04 -6.05732182e-04  6.70472422e-04  9.48311914e-04\n",
      "   1.75696052e-03 -8.12469892e-04 -1.08563665e-03 -6.41734549e-04\n",
      "   1.16923842e-03  1.30509866e-03  2.33773390e-04  2.16246174e-03\n",
      "   3.78486296e-04 -1.43596267e-04 -1.65965300e-03  1.39635885e-03\n",
      "  -5.35840190e-04  1.05770409e-03  7.27300762e-04  1.39946552e-04\n",
      "  -1.35609374e-04  2.40879474e-04  1.52703770e-04 -1.52866039e-05\n",
      "  -1.41426487e-04  3.29507638e-04 -1.50838514e-04 -8.98555514e-04\n",
      "   7.29748492e-04  4.87519483e-04  1.30503997e-03  5.31682698e-04\n",
      "   6.49552158e-03  7.21193882e-03  3.39101853e-03  4.63284037e-03\n",
      "   4.37016933e-03  2.60260037e-03  2.12508495e-03  4.34592386e-03\n",
      "   1.79073846e-03  2.10114989e-03  5.24820363e-04  1.67035074e-03\n",
      "   2.31383321e-03  1.43466021e-03  1.31947860e-03  3.79430365e-03\n",
      "   2.09791209e-03  1.26768349e-03  9.13935126e-07  1.24541070e-03\n",
      "   1.36478507e-03  4.41859280e-03  2.17254899e-03  1.24009141e-03\n",
      "   1.29441441e-03  2.95013953e-03  1.65918048e-03  1.66641938e-03\n",
      "   2.38470716e-03  2.20345739e-03  1.99519675e-03  1.66442584e-03\n",
      "   1.98326525e-03  2.04940789e-03  1.82351204e-03  4.77199988e-04\n",
      "   1.00722300e-03  9.86666011e-04  8.27751332e-05  1.41487150e-03\n",
      "   1.80071002e-03  3.49501976e-03  1.12263435e-03  1.30038686e-03\n",
      "   8.31809355e-04  1.55410213e-03  1.47899486e-03  1.58183039e-03\n",
      "   1.34741230e-03 -2.46067955e-04  1.77707295e-03  8.47399676e-04\n",
      "   8.50108801e-04  8.86448544e-04  2.00371138e-03  2.42411944e-04\n",
      "   1.19377974e-03  2.29981251e-03  1.06052772e-03  8.08345865e-04\n",
      "   9.06147611e-04  2.24146683e-03  7.17196004e-04  1.61770109e-03\n",
      "   1.55033928e-03  2.83740012e-03  1.36917307e-04  2.06319904e-04\n",
      "  -1.54668920e-04  2.92812041e-03 -2.79986441e-04  1.34435782e-03\n",
      "   9.17940702e-04  1.30106090e-03  2.29861810e-04 -5.73512879e-05\n",
      "   4.91800053e-04  2.20455505e-03  6.58663931e-04  1.49225051e-03\n",
      "  -3.83424011e-04  3.44203867e-04  1.33029168e-04  2.43803895e-03\n",
      "   6.37727904e-04  8.93856456e-04 -4.97837154e-04  1.32134406e-03\n",
      "   7.31746750e-04  1.51644327e-03  1.06378246e-03 -3.30621982e-04\n",
      "  -1.87743246e-04  1.83277843e-04  5.20118253e-04 -2.81776499e-04\n",
      "   2.05431889e-04 -1.34395089e-03  3.20023076e-04  6.99335373e-04\n",
      "   2.78208955e-02  2.22805970e-02  2.17791047e-02  2.33074629e-02\n",
      "   9.52835807e-03  2.03701489e-02  1.45432848e-02  1.63343244e-02\n",
      "   1.39223890e-02  1.33970184e-02  1.17731347e-02  8.38207275e-03\n",
      "   1.01731073e-02  1.56417825e-02  1.19402688e-02  1.03641951e-02\n",
      "   7.88060637e-03  1.10566876e-02  9.02690355e-03  1.19164604e-02\n",
      "   9.62378170e-03  5.51622193e-03  6.82961316e-03  4.89479742e-03\n",
      "   6.39997254e-03  7.35587648e-03  7.83261518e-03  6.71019830e-03\n",
      "   5.51535887e-03  4.53992258e-03  4.96709919e-03  5.98966792e-03\n",
      "   6.87470071e-03  3.77456704e-03  4.15945244e-03  3.82440834e-03\n",
      "   6.11825888e-03  2.61200887e-03  6.17961678e-03  3.60291246e-03\n",
      "   6.53611542e-03  3.67728193e-03  2.12670226e-03  1.40167492e-03\n",
      "   1.81800993e-03  4.77143494e-03  2.85156205e-03  3.54575030e-03\n",
      "   3.70558791e-03  3.20369020e-03  2.93022088e-03  3.48396010e-03\n",
      "   3.61170824e-03  2.42557766e-03  4.72378991e-03  2.03041336e-03\n",
      "   4.40170902e-03  3.97639584e-03  3.93987276e-03  4.07239073e-03\n",
      "   3.64128817e-03  2.71235232e-03  6.42040606e-03  3.67717211e-03\n",
      "   2.63290601e-03  1.31794781e-03  3.69216083e-03  2.24194069e-03\n",
      "   3.21662588e-03  3.97140984e-03  3.81746315e-03  1.79182614e-03\n",
      "   3.01774051e-03  3.74841551e-03  5.17809122e-03  2.39041651e-03\n",
      "   2.60079777e-03  7.91884731e-04  2.17934246e-04  2.58439276e-03\n",
      "   2.02522267e-03  3.88142252e-03  2.89378081e-03  1.29874785e-03\n",
      "   2.22693008e-04  2.12054844e-03  3.31258830e-03  1.70864362e-03\n",
      "   7.95242128e-04  4.25606121e-03  8.75904979e-04  4.89620881e-03\n",
      "  -4.97042788e-04  1.23947998e-03  7.57881421e-04  2.65258387e-03\n",
      "  -2.29391065e-03  1.92937495e-03  2.47839854e-03  4.94804625e-04\n",
      "  -6.16995168e-02]]\n"
     ]
    }
   ],
   "source": [
    "#calculating the weighted sum\n",
    "\n",
    "weighted_sum = feature_matrix.T @ rating_matrix\n",
    "print(weighted_sum)\n",
    "\n",
    "user_profile = weighted_sum/rating_matrix.sum()\n",
    "print(user_profile)\n",
    "\n",
    "#converting this into 2D vector\n",
    "user_vector = user_profile.reshape(1,-1)\n",
    "print(user_vector)"
   ]
  },
  {
   "cell_type": "code",
   "execution_count": 150,
   "id": "f29c0f5e",
   "metadata": {},
   "outputs": [],
   "source": [
    "feature_matrix_all_movies = feature_cols "
   ]
  },
  {
   "cell_type": "code",
   "execution_count": 151,
   "id": "ca21a5fe",
   "metadata": {},
   "outputs": [],
   "source": [
    "sim_score = cosine_similarity(user_vector, feature_matrix_all_movies).flatten()"
   ]
  },
  {
   "cell_type": "code",
   "execution_count": 152,
   "id": "1b5b6605",
   "metadata": {},
   "outputs": [
    {
     "name": "stderr",
     "output_type": "stream",
     "text": [
      "C:\\Users\\dhruv.goel1\\AppData\\Local\\Temp\\ipykernel_19912\\602200502.py:1: SettingWithCopyWarning: \n",
      "A value is trying to be set on a copy of a slice from a DataFrame.\n",
      "Try using .loc[row_indexer,col_indexer] = value instead\n",
      "\n",
      "See the caveats in the documentation: https://pandas.pydata.org/pandas-docs/stable/user_guide/indexing.html#returning-a-view-versus-a-copy\n",
      "  df1['Similarity_score'] = sim_score\n"
     ]
    }
   ],
   "source": [
    "df1['Similarity_score'] = sim_score"
   ]
  },
  {
   "cell_type": "code",
   "execution_count": 153,
   "id": "8c5080de",
   "metadata": {},
   "outputs": [],
   "source": [
    "df2 = df1.sort_values(by = ['Similarity_score'], ascending = [False])"
   ]
  },
  {
   "cell_type": "code",
   "execution_count": 156,
   "id": "b434ae7f",
   "metadata": {},
   "outputs": [],
   "source": [
    "user_data = df2[df2['User-ID'] == user_id]\n",
    "already_rated_books = user_data['ISBN'].tolist()  # or 'ISBN' if you prefer\n",
    "\n",
    "# Get candidate books (books not rated by user)\n",
    "candidate_books = df2[~df2['ISBN'].isin(already_rated_books)]"
   ]
  },
  {
   "cell_type": "code",
   "execution_count": 158,
   "id": "2dde3be5",
   "metadata": {},
   "outputs": [
    {
     "data": {
      "text/html": [
       "<div>\n",
       "<style scoped>\n",
       "    .dataframe tbody tr th:only-of-type {\n",
       "        vertical-align: middle;\n",
       "    }\n",
       "\n",
       "    .dataframe tbody tr th {\n",
       "        vertical-align: top;\n",
       "    }\n",
       "\n",
       "    .dataframe thead th {\n",
       "        text-align: right;\n",
       "    }\n",
       "</style>\n",
       "<table border=\"1\" class=\"dataframe\">\n",
       "  <thead>\n",
       "    <tr style=\"text-align: right;\">\n",
       "      <th></th>\n",
       "      <th>ISBN</th>\n",
       "      <th>Book-Title</th>\n",
       "      <th>Book-Author</th>\n",
       "      <th>Year-Of-Publication</th>\n",
       "      <th>Publisher</th>\n",
       "      <th>User-ID</th>\n",
       "      <th>Book-Rating</th>\n",
       "      <th>Similarity_score</th>\n",
       "    </tr>\n",
       "  </thead>\n",
       "  <tbody>\n",
       "    <tr>\n",
       "      <th>947332</th>\n",
       "      <td>0965064794</td>\n",
       "      <td>The Book Lover's Guide to the Internet</td>\n",
       "      <td>Evan Morris</td>\n",
       "      <td>0</td>\n",
       "      <td>Ballantine Books</td>\n",
       "      <td>252848.0</td>\n",
       "      <td>8.0</td>\n",
       "      <td>0.597543</td>\n",
       "    </tr>\n",
       "    <tr>\n",
       "      <th>36515</th>\n",
       "      <td>0345251733</td>\n",
       "      <td>Rainbow the Stormy Life of Judy Garland</td>\n",
       "      <td>Christopher Finch</td>\n",
       "      <td>0</td>\n",
       "      <td>Ballantine Books</td>\n",
       "      <td>51883.0</td>\n",
       "      <td>0.0</td>\n",
       "      <td>0.594625</td>\n",
       "    </tr>\n",
       "    <tr>\n",
       "      <th>634026</th>\n",
       "      <td>0345247302</td>\n",
       "      <td>Star Fleet Technical Manual Edition</td>\n",
       "      <td>Franz Joseph</td>\n",
       "      <td>0</td>\n",
       "      <td>Ballantine Books</td>\n",
       "      <td>32773.0</td>\n",
       "      <td>0.0</td>\n",
       "      <td>0.594218</td>\n",
       "    </tr>\n",
       "    <tr>\n",
       "      <th>973674</th>\n",
       "      <td>0345279816</td>\n",
       "      <td>Recipes for a Small Planet the Solution</td>\n",
       "      <td>Ellen Buchman Ewald</td>\n",
       "      <td>0</td>\n",
       "      <td>Ballantine Books</td>\n",
       "      <td>255092.0</td>\n",
       "      <td>10.0</td>\n",
       "      <td>0.594067</td>\n",
       "    </tr>\n",
       "    <tr>\n",
       "      <th>978249</th>\n",
       "      <td>0345276272</td>\n",
       "      <td>Tales of Known Space</td>\n",
       "      <td>Larry Niven</td>\n",
       "      <td>0</td>\n",
       "      <td>Ballantine Books</td>\n",
       "      <td>258875.0</td>\n",
       "      <td>6.0</td>\n",
       "      <td>0.593973</td>\n",
       "    </tr>\n",
       "  </tbody>\n",
       "</table>\n",
       "</div>"
      ],
      "text/plain": [
       "              ISBN                               Book-Title  \\\n",
       "947332  0965064794   The Book Lover's Guide to the Internet   \n",
       "36515   0345251733  Rainbow the Stormy Life of Judy Garland   \n",
       "634026  0345247302      Star Fleet Technical Manual Edition   \n",
       "973674  0345279816  Recipes for a Small Planet the Solution   \n",
       "978249  0345276272                     Tales of Known Space   \n",
       "\n",
       "                Book-Author Year-Of-Publication         Publisher   User-ID  \\\n",
       "947332          Evan Morris                   0  Ballantine Books  252848.0   \n",
       "36515     Christopher Finch                   0  Ballantine Books   51883.0   \n",
       "634026         Franz Joseph                   0  Ballantine Books   32773.0   \n",
       "973674  Ellen Buchman Ewald                   0  Ballantine Books  255092.0   \n",
       "978249          Larry Niven                   0  Ballantine Books  258875.0   \n",
       "\n",
       "        Book-Rating  Similarity_score  \n",
       "947332          8.0          0.597543  \n",
       "36515           0.0          0.594625  \n",
       "634026          0.0          0.594218  \n",
       "973674         10.0          0.594067  \n",
       "978249          6.0          0.593973  "
      ]
     },
     "execution_count": 158,
     "metadata": {},
     "output_type": "execute_result"
    }
   ],
   "source": [
    "# top 5 movies recommended for the particular user 11676\n",
    "\n",
    "candidate_books_final = candidate_books.drop_duplicates(subset = ['ISBN'])\n",
    "candidate_books_final.head()"
   ]
  },
  {
   "cell_type": "markdown",
   "id": "5496edfe",
   "metadata": {},
   "source": [
    "### Evaluating content based"
   ]
  },
  {
   "cell_type": "code",
   "execution_count": 159,
   "id": "32a105b0",
   "metadata": {},
   "outputs": [
    {
     "name": "stdout",
     "output_type": "stream",
     "text": [
      "Top 5 recommended books:\n",
      "              ISBN                                         Book-Title\n",
      "379690  0060914440  Skywriting by Word of Mouth : And Other Writin...\n",
      "737671  0060156562  Skywriting by Word of Mouth: And Other Writing...\n",
      "758738  0071355766  The Quotable Writer: Words of Wisdom from Mark...\n",
      "924005  0385127367  The Shroud of Turin: The burial cloth of Jesus...\n",
      "855632  0393039412  His Promised Land: The Autobiography of John P...\n",
      "\n",
      "Actual liked books in the test set:\n",
      "['0688058914', '0671871218', '0767912977', '0970101309', '2020043491', '0446606197', '0451454790', '0312977026', '0449146448', '0679722645', '039914840X', '0312137931', '0345386825', '0345430573', '0373483880', '0385312660', '0553277464', '0743400526', '030700645X', '0756400163', '0140306765', '0440221315', '0571086144', '0394620712', '0375719334', '0394925203', '0515132020', '0060809310', '0002258560', '0810920492', '0590401823', '006101351X', '0425189465', '0060534214', '0393047571', '0385335490', '0449911691', '0425120430', '0345465083', '2070415686', '0786244046', '0880387351', '1551665360', '0316678104', '0439440629', '0449203794', '3423084065', '0871567199', '0394576047', '0789450720', '2070768155', '042511984X', '0452262933', '0140430113', '0449227421', '0843942819', '0553582747', '0446525731', '0671880314', '0375756442', '0671522728', '0812541626', '0679741151', '0618002219', '0684193132', '0688033407', '0375700935', '0394551907', '0394820932', '0451202473', '0451410017', '0690600453', '3453209613', '051513239X', '0310242428', '0451191137', '0060256672', '0590457594', '0802733298', '0006543545', '0330411772', '0451191056', '006097270X', '0553050818', '0375713913', '0972294503', '0451196864', '1587154781', '0553073192', '8475960715', '0553580477', '3442447690', '3492034845', '0385310161', '0060520825', '1853260738', '0425092178', '0931271576', '0590132148', '0618070354', '0446610976', '1879682737', '0671559656', '0140300600', '1878685031', '0553208799', '074724958X', '8807814633', '1593080654', '0821770195', '0451523415', '0689826990', '0451410742', '0553262610', '038080722X', '067989098X', '0670490032', '2213603960', '0759695148', '0749746025', '2253034673', '0374403449', '0451210743', '0440225817', '2070409341', '0060083263', '0440228654', '0440237262', '055328942X', '0373250363', '2070364852', '0385326335', '0062734083', '3596152356', '0451162072', '0446603309', '1557850739', '0553273639', '0525947671', '0449208281', '0140097112', '0307100820', '0394900014', '0451403703', '037572737X', '0451206711', '8423309177', '0763612545', '0446606189', '0805066128', '0380727501', '0141303522', '0140088032', '1410755568', '0375700730', '037541309X', '8478887385', '0425094537', '0802139868', '0340734124', '0349108854', '0486264785', '1575668807', '006251279X', '0767904168', '0688149111', '0747251134', '0312873026', '0440225108', '8401327180', '0375501517', '067081976X', '0425162605', '0330292390', '055324700X', '0020519001', '0345326784', '0679430946', '2070374610', '0889740526', '0061097489', '0553571656', '0399135782', '344272161X', '0345282450', '0064400050', '0743223136', '0515127256', '0375422188', '0425186369', '0425170349', '0440514428', '0312966776', '0316314854', '2266022504', '0312422822', '0345425707', '0689844182', '0192823671', '0140270590', '0140288864', '0451180755', '0316603287', '0679739793', '0440234727', '0385321198', '0876058381', '0375706410', '1885223897', '3442437989', '0743206045', '0374148309', '0373122527', '0446364037', '9512049686', '0684803860', '0380710404', '0766607127', '0452281849', '0850317363', '0943734150', '0671507397', '0887307698', '1551669099', '074325547X', '0743454146', '0590407554', '0312978669', '1573221406', '044661064X', '0823407241', '0394743164', '0711703078', '0394930142', '0451184394', '0307030849', '0743439740', '0782901379', '0425156729', '3462014994', '3407788649', '1840844124', '0836218817', '0375756566', '0448089033', '0743219562', '0451455789', '0373033532', '0751500844', '044920197X', '0312868901', '0781402654', '0937295221', '1561706671', '037307977X', '2070416801', '0590423541', '075966661X', '1558215204', '3257228317', '006093395X', '0821773682', '0942025822', '0553583573', '0670315419', '0345411471', '0760720673', '0451092163', '3035000085', '0671748963', '014023828X', '0060987529', '0688087388', '0553276484', '0380769646', '0844255610', '0743250532', '3442454255', '0380817160', '0393046974', '1564581195', '0451167872', '0316107107', '0449224619', '0452282195', '1580050719', '0192781537', '0688177859', '3803112133', '0717276805', '0064400085', '1899712240', '0515103969', '067972818X', '0345440390', '1881830462', '0743446054', '0590401297', '0553213636', '0441790348', '0893754021', '0316782505', '0064471837', '0786500409', '0375758755', '0446527033', '0451208501', '044020271X', '158536083X', '0812534379', '0002118580', '5552446135', '000225929X', '0821717235', '0307131726', '0515088757', '0821753096', '0448095025', '0446610550', '1551668157', '0465024637', '0689806590', '0385504209', '3150099420', '0786867175', '0971964300', '0553268120', '081614740X', '0373705972', '0399146245', '1841766100', '344254159X', '1567189644', '0316710571', '1582341567', '0515081558', '0679776818', '1582340277', '0553581716', '0312966091', '0882402323', '0758203063', '0553111531', '1565843428', '0345293185', '0399144714', '0743245520', '0609605925', '0139363297', '0140250832', '002411510X', '0375504966', '1892065053', '9812327975', '0553291076', '0380978377', '0312104383', '068825294x', '0312168225', '0553571737', '0846660563', '0440224713', '0060926945', '0440129389', '0345384733', '0373484410', '0345453387', '3426618664', '0393039145', '038079487X', '0971743509', '0880297905', '034530652X', '8466302042', '0446358592', '0752801686', '0440166675', '0571137474', '0830732594', '0446352748', '0571169341', '0704349264', '0553272535', '0786890088', '0451405269', '0373030738', '0553204963', '8470390872', '0671737295', '0671222287', '0743217713', '0671454048', '0449213730', '1566195268', '0722534515', '0688141846', '0440218039', '084394739X', '0060529733', '3379015180', '0399135812', '0449204553', '0312989695', '037371064X', '0316199702', '0758204116', '0871133083', '0679449787', '3546001915', '0743477154', '8495317346', '0747557861', '0312983832', '2290321095', '0836213068', '0061090808', '0316640654', '0440941407', '1885211716', '0330294008', '038531700X', '031218171X', '0312983255', '073944042X', '0451188489', '1573240389', '0446605336', '0440507626', '0446608319', '0571081789', '1904492355', '1878448625', '0060188065', '3492228372', '0446391301', '0684195658', '3407785682', '0671537865', '3442439035', '0671016768', '0316780812', '0140150749', '0670844527', '1931561648', '0938530119', '0060014040', '1886411484', '0439010772', '0060929790', '067945439X', '0743475488', '0451184963', '0671577026', '0515130982', '0590422812', '0515123447', '031224102X', '8817866997', '0767916069', '1578565731', '0310235588', '0717283208', '0972873600', '0316781142', '0451402065', '1851492488', '1888054557', '9879397274', '0380720132', '0441318258', '0821723545', '0380815699', '0671759213', '0385315309', '0515126772', '0060988096', '0786883375', '0751507733', '048627067X', '1894413040', '0517704927', '1573229717', '0312263996', '0373225946', '0931659051', '0761325166', '0449219364', '0310225698', '0312147279', '1860495087', '067980336X', '014028009X', '006109921X', '042514173X', '1564583198', '0312986769', '0800783204', '0671035576', '0446613843', '0425169081', '034041782X', '0441009239', '0679742298', '157566402X', '0816745285', '0754060535', '0679740678', '0446675059', '0679869506', '0671024108', '0140274782', '206700011X', '0307118703', '0887308589', '3800050188', '0515122491', '190168041X', '044651862X', '042513525X', '0425093328', '0515130117', '044023462X', '0446608122', '037309955X', '0451174240', '0590407600', '0786889667', '0671007343', '0747539944', '3442444438', '0312967004', '0140374426', '8807813025', '0345352661', '0752844059', '0440487617', '346202731X', '8433914545', '2843370841', '0345374797', '0446612790', '1582293376', '0743418174', '068485287X', '1576734749', '0440474566', '0446370398', '8403092903', '0743471520', '0812503058', '0671769227', '0142001821', '1565121791', '0345456335', '076534775X', '1854714554', '1552781518', '0140259112', '033034093X', '0671028146', '0553278029', '0679441220', '0679751521', '0743457943', '3548253881', '0380727633', '0571142745', '9684323158', '0937295353', '0743229177', '074322535X', '3596105072', '0307628442', '0425154092', '0452271614', '0375413081', '1587154870', '0553156616', '0439082110', '8420636282', '0425167313', '0312988249', '0399148612', '0553578693', '0446672211', '0743460529', '0451192249', '0886779537', '0446611808', '0380805995', '0312974485', '3746618320', '0441008933', '0689870426', '006101432X', '2070378292', '0805421351', '0515103454', '0525937676', '0671728571', '1583224890', '0060504080', '0451201744', '0345256344', '1860461670', '0446611778', '0553569910', '0380619458', '0743470389', '2253005207', '0312963971', '1559704373', '1592400876', '0822595036', '1576752453', '880781000X', '0312931719', '0939149842', '1929374178', '0671519069', '3548359698', '0810921987', '0451451015', '0140621148', '3455110754', '0595304311', '0099110601', '0440201349', '1551669315', '0312181213', '0804105820', '0399140751', '0316235024', '0152045643', '1565920872', '0812564871', '1575213966', '0877853134', '0873587316', '0399149759', '0823412016', '0671003364', '055356045X', '0380400634', '0609809652', '8433966898', '0060934425', '325720342X', '0330253603', '0380811308', '0375504613', '0061013765', '0553261258', '0060920084', '0002251485', '1400042070', '014027927X', '0006363121', '0373239963', '0316765929', '0451208080', '0374270325', '0553800949', '0671015842', '156414450X', '0440219051', '3453863593', '0811811409', '0061009059', '0812504798', '0373243790', '0821729330', '0609603809', '0394800133', '0812563581', '0345409329', '0449004201', '0061098035', '3257225725', '0778320065', '0758200366', '1551430096', '0373077742', '0590449613', '1592850847', '0688177751', '0945353200', '000649840X', '0393083721', '034542140X', '0671537873', '0671034022', '0698113993', '0399527761', '044023669X', '0446611611', '0394578198', '1569553602', '0425167283', '0425158640', '0590300946', '0553565370', '0974205494', '0786868716', '0451179188', '055329508X', '051512219X', '0333619358', '0679800905', '0140251839', '0767902858', '1567312292', '226403033X', '0446601934', '0786888482', '014030438X', '0679419616', '0399149422', '0671035770', '0553141279', '0671000853', '0786866276', '0671722638', '0671003836', '3463008378', '0062517317', '9729484309', '0312962118', '0064441202', '0446531316', '0192837737', '0060973463', '0330487248', '0140281649', '0553578936', '0312961324', '051513595X', '1551667479', '0006512208', '0316693200', '8807815915', '0446603716', '0312982135', '0375412824', '0671021761', '0380763621', '0590847791', '0425165566', '0449206629', '0385318804', '0609603620', '044022103X', '3423241012', '843761449X', '0446323527', '0439070341', '0061031410', '0552145440', '0425137562', '0399150897', '078688097X', '0740738089', '0425137465', '0671725661', '1879531224', '0140108742', '0670891649', '0553251473', '0679863710', '0804115400', '3453215273', '0394805798', '0380720817', '0385421982', '0880381752', '0394900901', '0553252968', '0373115717', '0451523377', '2258060273', '1891830155', '0671525743', '0345305779', '0394539079', '0767900383', '1931561281', '0060909994', '055347331X', '0505520311', '0373197209', '0064400034', '0060288914', '0440407974', '0385260083', '038082101X', '0964266032', '0553263587', '0891073906', '0449238628', '880449509X', '2253153982', '0345331885', '0060502258', '8408039636', '0345416716', '0670828076', '225307618X', '0671011618', '1562925474', '0061000078', '044098761X', '0345365399', '8428210373', '0553213377', '0375751513', '0060256737', '0821228307', '158005059X', '0312202318', '0553210092', '0679419624', '0805208798', '0812585151', '0446610399', '1589199669', '080755457X', '1870098110', '3442052858', '0792277279', '0671729438', '0316154059', '0156011433', '0525460543', '0812028570', '0553579754', '0671867172', '0373711263', '0380807343', '0553152211', '0060914653', '1573225789', '207038165X', '0425178110', '187806777X', '0765341840', '0684855518', '0425189058', '157794304X', '0373252986', '0375704906', '014025448X', '0505523493', '0804107491', '1573227889', '0688177026', '0671034006', '0449908186', '0821772341', '0345378490', '0964216833', '0440104327', '0439327660', '0340784989', '3502518157', '0883658127', '0671028375', '084995083X', '0811825558', '0425180050', '0312927746', '0140109811', '0140371583', '0380975017', '0451157281', '0451202856', '2070362388', '0553587188', '0345423291', '0380700247', '0452011620', '0449003302', '0515131091', '0064405788', '0060512822', '0425074994', '3462032283', '0515136530', '0743474554', '0449213943', '0445405457', '075820440X', '0451526961', '0451160339', '0140441409', '0440209803', '0812522729', '0590436031', '0345361989', '0399144137', '0395918243', '0440122961', '0006366023', '3442438241', '0373123353', '0394551540', '0380819171', '0440236053', '0805062971', '0804113645', '3442541751', '0061000027', '0609607219', '0804108323', '0894803700', '0553280589', '0786866020', '0446612626', '3423201509', '1880032481', '0425098648', '0446604666', '0679734120', '0451526759', '0345313216', '0887306942', '038097407X', '1894022661', '0525089357', '0345422317', '081257639X', '0870841564', '0553051377', '0312985207', '0553569031', '0553297260', '3499202697', '0449222748', '0809239418', '0689846363', '0812550706', '086531599X', '0440413028', '3442726042', '0330500937', '1567313736', '0609601059', '0804813760', '0345384466', '0446326410', '1862542813', '1560762365', '0439228425', '0451204956', '0446606251', '0894803220', '0590414607', '069401236X', '2277241202', '0786803118', '0399136487', '082172262X', '0316314625', '0671042548', '0375422579', '0312858124', '0440209293', '0767903315', '0312958781', '155071063X', '0385475772', '0866255028', '0451204301', '0446670626']\n",
      "\n",
      "Precision@5: 0.0\n",
      "Recall@5: 0.0\n"
     ]
    }
   ],
   "source": [
    "train_df, test_df = train_test_split(df1, test_size=0.2, random_state=42)\n",
    "\n",
    "# ------------------------\n",
    "# 2. Prepare TF-IDF for book titles in the train set\n",
    "# ------------------------\n",
    "tfidf = TfidfVectorizer(stop_words='english')\n",
    "book_title_ft = tfidf.fit_transform(train_df['Book-Title'])\n",
    "\n",
    "# ------------------------\n",
    "# 3. Apply Truncated SVD to reduce dimensions\n",
    "# ------------------------\n",
    "svd = TruncatedSVD(n_components=100)\n",
    "reduced_title_ft = svd.fit_transform(book_title_ft)\n",
    "\n",
    "# ------------------------\n",
    "# 4. Build the user profile from books rated highly in the train set\n",
    "# ------------------------\n",
    "user_id = 11676\n",
    "high_ratings = [7, 8, 9, 10]\n",
    "\n",
    "# Get the user’s data from train set\n",
    "user_data = train_df[train_df['User-ID'] == user_id]\n",
    "liked_books = user_data[user_data['Book-Rating'].isin(high_ratings)]\n",
    "\n",
    "if liked_books.empty:\n",
    "    print(\"User has no highly rated books in the training set!\")\n",
    "else:\n",
    "    liked_indices = liked_books.index\n",
    "    feature_matrix_liked = reduced_title_ft[train_df.index.isin(liked_indices)]\n",
    "    ratings = liked_books['Book-Rating'].values\n",
    "\n",
    "    weighted_sum = feature_matrix_liked.T @ ratings\n",
    "    user_profile = weighted_sum / ratings.sum()\n",
    "\n",
    "    # ------------------------\n",
    "    # 5. Compute similarity between user profile and all books in the train set\n",
    "    # ------------------------\n",
    "    sim_scores = cosine_similarity(user_profile.reshape(1, -1), reduced_title_ft).flatten()\n",
    "    train_df = train_df.copy()\n",
    "    train_df['Similarity'] = sim_scores\n",
    "\n",
    "    # ------------------------\n",
    "    # 6. Exclude books already rated by the user\n",
    "    # ------------------------\n",
    "    user_books = user_data['ISBN'].tolist()\n",
    "    candidate_books = train_df[~train_df['ISBN'].isin(user_books)]\n",
    "    candidate_books = candidate_books.drop_duplicates(subset=['ISBN'])\n",
    "\n",
    "    # ------------------------\n",
    "    # 7. Sort candidates by similarity and take top 5 recommendations\n",
    "    # ------------------------\n",
    "    recommendations = candidate_books.sort_values(by='Similarity', ascending=False)\n",
    "    recommended_isbns = recommendations['ISBN'].tolist()[:5]\n",
    "\n",
    "    print(\"Top 5 recommended books:\")\n",
    "    print(recommendations[['ISBN', 'Book-Title']].head())\n",
    "\n",
    "    # ------------------------\n",
    "    # 8. Get actual liked books from test set\n",
    "    # ------------------------\n",
    "    test_user_data = test_df[test_df['User-ID'] == user_id]\n",
    "    actual_liked = test_user_data[test_user_data['Book-Rating'].isin(high_ratings)]['ISBN'].tolist()\n",
    "\n",
    "    print(\"\\nActual liked books in the test set:\")\n",
    "    print(actual_liked)\n",
    "\n",
    "    # ------------------------\n",
    "    # 9. Calculate Precision@5 and Recall@5\n",
    "    # ------------------------\n",
    "    if len(actual_liked) == 0:\n",
    "        print(\"\\nUser has no liked books in the test set!\")\n",
    "    else:\n",
    "        precision = len(set(recommended_isbns) & set(actual_liked)) / 5\n",
    "        recall = len(set(recommended_isbns) & set(actual_liked)) / len(actual_liked)\n",
    "\n",
    "        print(f\"\\nPrecision@5: {precision}\")\n",
    "        print(f\"Recall@5: {recall}\")"
   ]
  },
  {
   "cell_type": "code",
   "execution_count": 160,
   "id": "d0bde4ff",
   "metadata": {},
   "outputs": [
    {
     "name": "stdout",
     "output_type": "stream",
     "text": [
      "Number of liked books in train: 4029\n",
      "Number of liked books in test: 973\n"
     ]
    }
   ],
   "source": [
    "print(\"Number of liked books in train:\", len(liked_books))\n",
    "print(\"Number of liked books in test:\", len(actual_liked))"
   ]
  },
  {
   "cell_type": "code",
   "execution_count": null,
   "id": "f9f14371",
   "metadata": {},
   "outputs": [],
   "source": []
  }
 ],
 "metadata": {
  "kernelspec": {
   "display_name": "Python 3",
   "language": "python",
   "name": "python3"
  },
  "language_info": {
   "codemirror_mode": {
    "name": "ipython",
    "version": 3
   },
   "file_extension": ".py",
   "mimetype": "text/x-python",
   "name": "python",
   "nbconvert_exporter": "python",
   "pygments_lexer": "ipython3",
   "version": "3.10.6"
  }
 },
 "nbformat": 4,
 "nbformat_minor": 5
}
